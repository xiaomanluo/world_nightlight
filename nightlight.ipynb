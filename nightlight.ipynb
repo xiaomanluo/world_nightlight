{
 "cells": [
  {
   "cell_type": "code",
   "execution_count": 1,
   "metadata": {},
   "outputs": [],
   "source": [
    "import numpy as np\n",
    "import pandas as pd\n",
    "import plotnine as p9"
   ]
  },
  {
   "cell_type": "code",
   "execution_count": 5,
   "metadata": {},
   "outputs": [],
   "source": [
    "data = pd.read_excel('journal.pone.0174610.s005.xlsx')"
   ]
  },
  {
   "cell_type": "code",
   "execution_count": 6,
   "metadata": {},
   "outputs": [
    {
     "data": {
      "text/plain": [
       "(5405, 12)"
      ]
     },
     "execution_count": 6,
     "metadata": {},
     "output_type": "execute_result"
    }
   ],
   "source": [
    "data.shape"
   ]
  },
  {
   "cell_type": "code",
   "execution_count": 9,
   "metadata": {},
   "outputs": [
    {
     "data": {
      "text/plain": [
       "['Code',\n",
       " 'Region',\n",
       " 'Year',\n",
       " 'Area Lit (Log, km2)',\n",
       " 'Electricity Consumption (Log, Billion kWh)',\n",
       " 'CO2 Emissions (Log, metric tonnes)',\n",
       " 'Gross Domestic Product (Log, Billion (Nominal) Current US$)',\n",
       " 'Population (Log)',\n",
       " 'N2O Emissions (Log, kt of CO2 equivalent)',\n",
       " 'CH4 Emissions (Log, kt of CO2 equivalent)',\n",
       " 'HFC, PFC and SF6 Emissions (Log, kt of CO2 equivalent)',\n",
       " 'Poverty Headcount Ratio (at national poverty lines)']"
      ]
     },
     "execution_count": 9,
     "metadata": {},
     "output_type": "execute_result"
    }
   ],
   "source": [
    "list(data)"
   ]
  },
  {
   "cell_type": "code",
   "execution_count": 10,
   "metadata": {},
   "outputs": [
    {
     "data": {
      "text/html": [
       "<div>\n",
       "<style scoped>\n",
       "    .dataframe tbody tr th:only-of-type {\n",
       "        vertical-align: middle;\n",
       "    }\n",
       "\n",
       "    .dataframe tbody tr th {\n",
       "        vertical-align: top;\n",
       "    }\n",
       "\n",
       "    .dataframe thead th {\n",
       "        text-align: right;\n",
       "    }\n",
       "</style>\n",
       "<table border=\"1\" class=\"dataframe\">\n",
       "  <thead>\n",
       "    <tr style=\"text-align: right;\">\n",
       "      <th></th>\n",
       "      <th>Code</th>\n",
       "      <th>Region</th>\n",
       "      <th>Year</th>\n",
       "      <th>Area Lit (Log, km2)</th>\n",
       "      <th>Electricity Consumption (Log, Billion kWh)</th>\n",
       "      <th>CO2 Emissions (Log, metric tonnes)</th>\n",
       "      <th>Gross Domestic Product (Log, Billion (Nominal) Current US$)</th>\n",
       "      <th>Population (Log)</th>\n",
       "      <th>N2O Emissions (Log, kt of CO2 equivalent)</th>\n",
       "      <th>CH4 Emissions (Log, kt of CO2 equivalent)</th>\n",
       "      <th>HFC, PFC and SF6 Emissions (Log, kt of CO2 equivalent)</th>\n",
       "      <th>Poverty Headcount Ratio (at national poverty lines)</th>\n",
       "    </tr>\n",
       "  </thead>\n",
       "  <tbody>\n",
       "    <tr>\n",
       "      <th>0</th>\n",
       "      <td>ABW</td>\n",
       "      <td>Aruba</td>\n",
       "      <td>2013</td>\n",
       "      <td>4.794165</td>\n",
       "      <td>-0.177931</td>\n",
       "      <td>13.683593</td>\n",
       "      <td>NaN</td>\n",
       "      <td>11.541717</td>\n",
       "      <td>NaN</td>\n",
       "      <td>NaN</td>\n",
       "      <td>NaN</td>\n",
       "      <td>NaN</td>\n",
       "    </tr>\n",
       "    <tr>\n",
       "      <th>1</th>\n",
       "      <td>AFG</td>\n",
       "      <td>Afghanistan</td>\n",
       "      <td>2013</td>\n",
       "      <td>6.837424</td>\n",
       "      <td>1.518519</td>\n",
       "      <td>16.872742</td>\n",
       "      <td>3.011097</td>\n",
       "      <td>17.239203</td>\n",
       "      <td>NaN</td>\n",
       "      <td>NaN</td>\n",
       "      <td>NaN</td>\n",
       "      <td>NaN</td>\n",
       "    </tr>\n",
       "    <tr>\n",
       "      <th>2</th>\n",
       "      <td>AGO</td>\n",
       "      <td>Angola</td>\n",
       "      <td>2013</td>\n",
       "      <td>7.733642</td>\n",
       "      <td>1.950906</td>\n",
       "      <td>17.295641</td>\n",
       "      <td>4.821718</td>\n",
       "      <td>16.970304</td>\n",
       "      <td>NaN</td>\n",
       "      <td>NaN</td>\n",
       "      <td>NaN</td>\n",
       "      <td>NaN</td>\n",
       "    </tr>\n",
       "    <tr>\n",
       "      <th>3</th>\n",
       "      <td>AIA</td>\n",
       "      <td>Anguilla</td>\n",
       "      <td>2013</td>\n",
       "      <td>3.220334</td>\n",
       "      <td>NaN</td>\n",
       "      <td>NaN</td>\n",
       "      <td>NaN</td>\n",
       "      <td>NaN</td>\n",
       "      <td>NaN</td>\n",
       "      <td>NaN</td>\n",
       "      <td>NaN</td>\n",
       "      <td>NaN</td>\n",
       "    </tr>\n",
       "    <tr>\n",
       "      <th>4</th>\n",
       "      <td>ALA</td>\n",
       "      <td>Aland Islands</td>\n",
       "      <td>2013</td>\n",
       "      <td>3.614013</td>\n",
       "      <td>NaN</td>\n",
       "      <td>NaN</td>\n",
       "      <td>NaN</td>\n",
       "      <td>NaN</td>\n",
       "      <td>NaN</td>\n",
       "      <td>NaN</td>\n",
       "      <td>NaN</td>\n",
       "      <td>NaN</td>\n",
       "    </tr>\n",
       "  </tbody>\n",
       "</table>\n",
       "</div>"
      ],
      "text/plain": [
       "  Code         Region  Year  Area Lit (Log, km2)  \\\n",
       "0  ABW          Aruba  2013             4.794165   \n",
       "1  AFG    Afghanistan  2013             6.837424   \n",
       "2  AGO         Angola  2013             7.733642   \n",
       "3  AIA       Anguilla  2013             3.220334   \n",
       "4  ALA  Aland Islands  2013             3.614013   \n",
       "\n",
       "   Electricity Consumption (Log, Billion kWh)  \\\n",
       "0                                   -0.177931   \n",
       "1                                    1.518519   \n",
       "2                                    1.950906   \n",
       "3                                         NaN   \n",
       "4                                         NaN   \n",
       "\n",
       "   CO2 Emissions (Log, metric tonnes)  \\\n",
       "0                           13.683593   \n",
       "1                           16.872742   \n",
       "2                           17.295641   \n",
       "3                                 NaN   \n",
       "4                                 NaN   \n",
       "\n",
       "   Gross Domestic Product (Log, Billion (Nominal) Current US$)  \\\n",
       "0                                                NaN             \n",
       "1                                           3.011097             \n",
       "2                                           4.821718             \n",
       "3                                                NaN             \n",
       "4                                                NaN             \n",
       "\n",
       "   Population (Log)  N2O Emissions (Log, kt of CO2 equivalent)  \\\n",
       "0         11.541717                                        NaN   \n",
       "1         17.239203                                        NaN   \n",
       "2         16.970304                                        NaN   \n",
       "3               NaN                                        NaN   \n",
       "4               NaN                                        NaN   \n",
       "\n",
       "   CH4 Emissions (Log, kt of CO2 equivalent)  \\\n",
       "0                                        NaN   \n",
       "1                                        NaN   \n",
       "2                                        NaN   \n",
       "3                                        NaN   \n",
       "4                                        NaN   \n",
       "\n",
       "   HFC, PFC and SF6 Emissions (Log, kt of CO2 equivalent)  \\\n",
       "0                                                NaN        \n",
       "1                                                NaN        \n",
       "2                                                NaN        \n",
       "3                                                NaN        \n",
       "4                                                NaN        \n",
       "\n",
       "   Poverty Headcount Ratio (at national poverty lines)  \n",
       "0                                                NaN    \n",
       "1                                                NaN    \n",
       "2                                                NaN    \n",
       "3                                                NaN    \n",
       "4                                                NaN    "
      ]
     },
     "execution_count": 10,
     "metadata": {},
     "output_type": "execute_result"
    }
   ],
   "source": [
    "data.head()"
   ]
  },
  {
   "cell_type": "code",
   "execution_count": 13,
   "metadata": {},
   "outputs": [],
   "source": [
    "year_series = data.loc[:, 'Year']\n",
    "year_count = pd.value_counts(year_series)"
   ]
  },
  {
   "cell_type": "code",
   "execution_count": 16,
   "metadata": {},
   "outputs": [
    {
     "data": {
      "text/plain": [
       "2011    246\n",
       "2007    246\n",
       "1996    246\n",
       "2000    246\n",
       "2004    246\n",
       "2008    246\n",
       "2012    246\n",
       "1993    246\n",
       "1997    246\n",
       "2001    246\n",
       "2005    246\n",
       "2009    246\n",
       "2013    246\n",
       "1994    246\n",
       "1998    246\n",
       "2006    246\n",
       "2010    246\n",
       "1995    246\n",
       "1999    246\n",
       "2003    246\n",
       "1992    246\n",
       "2002    239\n",
       "Name: Year, dtype: int64"
      ]
     },
     "execution_count": 16,
     "metadata": {},
     "output_type": "execute_result"
    }
   ],
   "source": [
    "year_count"
   ]
  },
  {
   "cell_type": "code",
   "execution_count": 20,
   "metadata": {},
   "outputs": [
    {
     "data": {
      "text/plain": [
       "Electricity Consumption (Log, Billion kWh)                     0.929839\n",
       "CO2 Emissions (Log, metric tonnes)                             0.928277\n",
       "Gross Domestic Product (Log, Billion (Nominal) Current US$)    0.912570\n",
       "Population (Log)                                               0.720005\n",
       "CH4 Emissions (Log, kt of CO2 equivalent)                      0.652776\n",
       "N2O Emissions (Log, kt of CO2 equivalent)                      0.602580\n",
       "Poverty Headcount Ratio (at national poverty lines)            0.418967\n",
       "HFC, PFC and SF6 Emissions (Log, kt of CO2 equivalent)         0.379041\n",
       "Year                                                           0.097284\n",
       "Name: Area Lit (Log, km2), dtype: float64"
      ]
     },
     "execution_count": 20,
     "metadata": {},
     "output_type": "execute_result"
    }
   ],
   "source": [
    "corr = data.corr()['Area Lit (Log, km2)'].drop(labels = 'Area Lit (Log, km2)').abs()\n",
    "corr_sorted = corr.sort_values(ascending = False)\n",
    "corr_sorted"
   ]
  },
  {
   "cell_type": "code",
   "execution_count": 24,
   "metadata": {},
   "outputs": [],
   "source": [
    "arealt = data[['Year', 'Area Lit (Log, km2)']].copy()\n",
    "arealt_grouped = arealt.groupby(['Year']).mean().reset_index()"
   ]
  },
  {
   "cell_type": "code",
   "execution_count": 29,
   "metadata": {},
   "outputs": [
    {
     "data": {
      "image/png": "[encoded data removed]",
      "text/plain": [
       "<Figure size 640x480 with 1 Axes>"
      ]
     },
     "metadata": {},
     "output_type": "display_data"
    },
    {
     "data": {
      "text/plain": [
       "<ggplot: (7557444998)>"
      ]
     },
     "execution_count": 29,
     "metadata": {},
     "output_type": "execute_result"
    }
   ],
   "source": [
    "gg1 = p9.ggplot(arealt_grouped)\n",
    "gg1 += p9.aes(x = 'Year', y = 'Area Lit (Log, km2)' )\n",
    "gg1 += p9.geom_point()\n",
    "gg1 += p9.geom_smooth(method = 'loess')\n",
    "\n",
    "gg1"
   ]
  },
  {
   "cell_type": "code",
   "execution_count": null,
   "metadata": {},
   "outputs": [],
   "source": []
  }
 ],
 "metadata": {
  "kernelspec": {
   "display_name": "Python 3",
   "language": "python",
   "name": "python3"
  },
  "language_info": {
   "codemirror_mode": {
    "name": "ipython",
    "version": 3
   },
   "file_extension": ".py",
   "mimetype": "text/x-python",
   "name": "python",
   "nbconvert_exporter": "python",
   "pygments_lexer": "ipython3",
   "version": "3.6.6"
  }
 },
 "nbformat": 4,
 "nbformat_minor": 2
}
